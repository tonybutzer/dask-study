{
 "cells": [
  {
   "cell_type": "markdown",
   "id": "669db584-e0bc-4bf6-8b8c-03d165d99ace",
   "metadata": {
    "tags": []
   },
   "source": [
    "# Reference\n",
    "\n",
    "https://www.youtube.com/watch?v=EX_voquHdk0\n",
    "\n",
    "> In this video, Matt Rocklin gives a brief introduction of the Dask JupyterLab extension. This video will cover how to install the extension, how to use it, ways to customize it, cluster customization, and the auto-start Dask option.\n"
   ]
  },
  {
   "cell_type": "markdown",
   "id": "40469333-0a58-46ee-accd-2735d6ae4785",
   "metadata": {},
   "source": [
    "https://github.com/dask/dask-labextension\n"
   ]
  },
  {
   "cell_type": "markdown",
   "id": "abe6608a-6246-4bc7-941b-431b30b66ed8",
   "metadata": {},
   "source": [
    "# Steps\n",
    "\n",
    "1. in conda yaml\n",
    "    - install nodjs and all jupyter goodies - example in my conda dir"
   ]
  },
  {
   "cell_type": "code",
   "execution_count": null,
   "id": "600e2ca5-b636-42af-b2b7-a007f2275543",
   "metadata": {},
   "outputs": [],
   "source": []
  }
 ],
 "metadata": {
  "kernelspec": {
   "display_name": "Python 3 (ipykernel)",
   "language": "python",
   "name": "python3"
  },
  "language_info": {
   "codemirror_mode": {
    "name": "ipython",
    "version": 3
   },
   "file_extension": ".py",
   "mimetype": "text/x-python",
   "name": "python",
   "nbconvert_exporter": "python",
   "pygments_lexer": "ipython3",
   "version": "3.10.4"
  }
 },
 "nbformat": 4,
 "nbformat_minor": 5
}
